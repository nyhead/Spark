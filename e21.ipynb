{
 "cells": [
  {
   "cell_type": "code",
   "execution_count": 4,
   "metadata": {},
   "outputs": [],
   "source": [
    "from pyspark.sql import SparkSession\n",
    "from pyspark.sql.functions import regexp_extract, col\n",
    "\n",
    "# Initialize Spark session\n",
    "spark = SparkSession.builder.appName(\"ParseAccessLog\").getOrCreate()\n",
    "\n",
    "# Define the path to the access log file\n"
   ]
  },
  {
   "cell_type": "code",
   "execution_count": 5,
   "metadata": {},
   "outputs": [
    {
     "name": "stdout",
     "output_type": "stream",
     "text": [
      "+---------------------------+--------------------------+\n",
      "|addr                       |date                      |\n",
      "+---------------------------+--------------------------+\n",
      "|in24.inetnebr.com          |01/Aug/1995:00:00:01 -0400|\n",
      "|uplherc.upl.com            |01/Aug/1995:00:00:07 -0400|\n",
      "|uplherc.upl.com            |01/Aug/1995:00:00:08 -0400|\n",
      "|uplherc.upl.com            |01/Aug/1995:00:00:08 -0400|\n",
      "|uplherc.upl.com            |01/Aug/1995:00:00:08 -0400|\n",
      "|ix-esc-ca2-07.ix.netcom.com|01/Aug/1995:00:00:09 -0400|\n",
      "|uplherc.upl.com            |01/Aug/1995:00:00:10 -0400|\n",
      "|slppp6.intermind.net       |01/Aug/1995:00:00:10 -0400|\n",
      "|piweba4y.prodigy.com       |01/Aug/1995:00:00:10 -0400|\n",
      "|slppp6.intermind.net       |01/Aug/1995:00:00:11 -0400|\n",
      "|slppp6.intermind.net       |01/Aug/1995:00:00:12 -0400|\n",
      "|ix-esc-ca2-07.ix.netcom.com|01/Aug/1995:00:00:12 -0400|\n",
      "|slppp6.intermind.net       |01/Aug/1995:00:00:13 -0400|\n",
      "|uplherc.upl.com            |01/Aug/1995:00:00:14 -0400|\n",
      "|133.43.96.45               |01/Aug/1995:00:00:16 -0400|\n",
      "|kgtyk4.kj.yamagata-u.ac.jp |01/Aug/1995:00:00:17 -0400|\n",
      "|kgtyk4.kj.yamagata-u.ac.jp |01/Aug/1995:00:00:18 -0400|\n",
      "|d0ucr6.fnal.gov            |01/Aug/1995:00:00:19 -0400|\n",
      "|ix-esc-ca2-07.ix.netcom.com|01/Aug/1995:00:00:19 -0400|\n",
      "|d0ucr6.fnal.gov            |01/Aug/1995:00:00:20 -0400|\n",
      "+---------------------------+--------------------------+\n",
      "only showing top 20 rows\n",
      "\n"
     ]
    }
   ],
   "source": [
    "access_log_path = 'spark-public/datasets/web-access/access_log'\n",
    "# Read the access log file into a Spark DataFrame\n",
    "log_df = spark.read.text(access_log_path)\n",
    "\n",
    "# Define the regular expression pattern to extract address and date\n",
    "log_pattern = r'^([\\S]+).*?\\[([^\\]]+)\\]'\n",
    "\n",
    "# Extract the address and date using the regular expression\n",
    "parsed_df = log_df.select(\n",
    "    regexp_extract(col('value'), log_pattern, 1).alias('addr'),\n",
    "    regexp_extract(col('value'), log_pattern, 2).alias('date')\n",
    ")\n",
    "\n",
    "# Display a few lines of the DataFrame\n",
    "parsed_df.show(truncate=False)\n"
   ]
  }
 ],
 "metadata": {
  "kernelspec": {
   "display_name": "Python 3",
   "language": "python",
   "name": "python3"
  },
  "language_info": {
   "codemirror_mode": {
    "name": "ipython",
    "version": 3
   },
   "file_extension": ".py",
   "mimetype": "text/x-python",
   "name": "python",
   "nbconvert_exporter": "python",
   "pygments_lexer": "ipython3",
   "version": "3.9.6"
  }
 },
 "nbformat": 4,
 "nbformat_minor": 2
}
