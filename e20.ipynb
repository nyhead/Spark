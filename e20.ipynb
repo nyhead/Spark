{
 "cells": [
  {
   "cell_type": "code",
   "execution_count": 2,
   "metadata": {},
   "outputs": [
    {
     "name": "stdout",
     "output_type": "stream",
     "text": [
      "+----------+--------+-------+--------------------+-----------+--------------+--------------------+--------------------+--------------+\n",
      "|      asin| helpful|overall|          reviewText| reviewTime|    reviewerID|        reviewerName|             summary|unixReviewTime|\n",
      "+----------+--------+-------+--------------------+-----------+--------------+--------------------+--------------------+--------------+\n",
      "|5555991584|  [3, 3]|    5.0|It's hard to beli...|09 12, 2006|A3EBHHCZO6V2A4|Amaranth \"music fan\"|Enya's last great...|    1158019200|\n",
      "|5555991584|  [0, 0]|    5.0|A clasically-styl...| 06 3, 2001| AZPWAXJG9OJXV|           bethtexas|Enya at her most ...|     991526400|\n",
      "|5555991584|  [2, 2]|    5.0|I never thought E...|07 14, 2003|A38IRL0X2T4DPF|         bob turnley|     The best so far|    1058140800|\n",
      "|5555991584|  [1, 1]|    5.0|This is the third...| 05 3, 2000|A22IK3I6U76GX0|               Calle|Ireland produces ...|     957312000|\n",
      "|5555991584|  [1, 1]|    4.0|Enya, despite bei...|01 17, 2008|A1AISPOIIHTHXX|         Cloud \"...\"|4.5; music to dre...|    1200528000|\n",
      "|5555991584|[62, 65]|    5.0|Who knows why I i...|07 30, 2003|A2P49WD75WHAG5|    Daniel J. Hamlow|Dreamy unearthly ...|    1059523200|\n",
      "|5555991584|  [1, 5]|    3.0|Enya is one of a ...|05 27, 2000|A3O90G1D7I5EGG|                dev1|Have You Hugged A...|     959385600|\n",
      "|5555991584|  [5, 5]|    5.0|Enya is one of of...|12 21, 2002|A3EJYJC25OJVKK|Distant Voyageur ...|The album for a r...|    1040428800|\n",
      "|5555991584|  [4, 4]|    5.0|This is not anoth...| 01 4, 2007|A1DA8VOH9NR6C7|       E. Minkovitch|   Simply wonderful.|    1167868800|\n",
      "|5555991584|[12, 12]|    5.0|Many times, AND W...|05 12, 2003|A33TRNCQK4IUO7|          guillermoj|A true gem, even ...|    1052697600|\n",
      "|5555991584|  [2, 3]|    5.0|I just recently p...| 01 2, 2001| AWY3EPKEOUV1W|             Heather|New Enya Fan.  Si...|     978393600|\n",
      "|5555991584|  [1, 1]|    4.0|Over the past twe...|02 10, 2013|A1SCJWCMQ3W3KK|            Irishgal|Definitely One of...|    1360454400|\n",
      "|5555991584|  [1, 1]|    5.0|[One CD, with a r...|07 30, 2013|A14BTJRH9VNLJJ|     Kurt A. Johnson|          Wonderful!|    1375142400|\n",
      "|5555991584|[12, 13]|    5.0|The problem with ...|02 15, 2005|A2AOZQ3WTNVVOK|Lonnie E. Holder ...|           Beautiful|    1108425600|\n",
      "|5555991584|  [2, 2]|    4.0|If for some reaso...|04 26, 2005|A1BXA3SM3AJOKL|   Michele L. Worley|           11 tracks|    1114473600|\n",
      "|5555991584|  [3, 4]|    5.0|Released five yea...|05 21, 2000|A3CCYAQRHUTPIQ|      Mr. A. Pomeroy|                 Pop|     958867200|\n",
      "|5555991584|  [0, 0]|    5.0|(...)She is one o...|07 17, 2001| AHUT55E980RDR|    Neal C. Reynolds|Pure, angelic, sp...|     995328000|\n",
      "|5555991584|  [2, 3]|    5.0|What an enchantin...| 08 8, 2005|A24N1BAS3CU27H|            Nse Ette|            Angelic!|    1123459200|\n",
      "|5555991584|  [2, 2]|    4.0|Enya - The Memory...|12 18, 2009|A19YHEBK099R7U|Rich Latta \"meltd...|Some Gorgeous Mus...|    1261094400|\n",
      "|5555991584|  [8, 9]|    5.0|Enya has one of t...|02 11, 2003|A16KCH578FG4B4|   Russell Diederich|           Beautiful|    1044921600|\n",
      "+----------+--------+-------+--------------------+-----------+--------------+--------------------+--------------------+--------------+\n",
      "only showing top 20 rows\n",
      "\n"
     ]
    }
   ],
   "source": [
    "from pyspark.sql import SparkSession\n",
    "from pyspark.sql.functions import col, from_unixtime, to_date, date_add, date_sub, collect_list, count, lit\n",
    "\n",
    "spark = SparkSession.builder.appName(\"Item Co-review Analysis\").getOrCreate()\n",
    "\n",
    "# Load the dataset\n",
    "reviews = spark.read.json(\"spark-public/datasets/reviews/reviews-5.json\")\n",
    "reviews.show()\n"
   ]
  },
  {
   "cell_type": "code",
   "execution_count": 3,
   "metadata": {},
   "outputs": [
    {
     "name": "stdout",
     "output_type": "stream",
     "text": [
      "+----------+--------+-------+--------------------+-----------+--------------+--------------------+--------------------+--------------+----------+-----------+----------+\n",
      "|      asin| helpful|overall|          reviewText| reviewTime|    reviewerID|        reviewerName|             summary|unixReviewTime|reviewDate|windowStart| windowEnd|\n",
      "+----------+--------+-------+--------------------+-----------+--------------+--------------------+--------------------+--------------+----------+-----------+----------+\n",
      "|5555991584|  [3, 3]|    5.0|It's hard to beli...|09 12, 2006|A3EBHHCZO6V2A4|Amaranth \"music fan\"|Enya's last great...|    1158019200|2006-09-12| 2006-09-11|2006-09-13|\n",
      "|5555991584|  [0, 0]|    5.0|A clasically-styl...| 06 3, 2001| AZPWAXJG9OJXV|           bethtexas|Enya at her most ...|     991526400|2001-06-03| 2001-06-02|2001-06-04|\n",
      "|5555991584|  [2, 2]|    5.0|I never thought E...|07 14, 2003|A38IRL0X2T4DPF|         bob turnley|     The best so far|    1058140800|2003-07-14| 2003-07-13|2003-07-15|\n",
      "|5555991584|  [1, 1]|    5.0|This is the third...| 05 3, 2000|A22IK3I6U76GX0|               Calle|Ireland produces ...|     957312000|2000-05-03| 2000-05-02|2000-05-04|\n",
      "|5555991584|  [1, 1]|    4.0|Enya, despite bei...|01 17, 2008|A1AISPOIIHTHXX|         Cloud \"...\"|4.5; music to dre...|    1200528000|2008-01-17| 2008-01-16|2008-01-18|\n",
      "|5555991584|[62, 65]|    5.0|Who knows why I i...|07 30, 2003|A2P49WD75WHAG5|    Daniel J. Hamlow|Dreamy unearthly ...|    1059523200|2003-07-30| 2003-07-29|2003-07-31|\n",
      "|5555991584|  [1, 5]|    3.0|Enya is one of a ...|05 27, 2000|A3O90G1D7I5EGG|                dev1|Have You Hugged A...|     959385600|2000-05-27| 2000-05-26|2000-05-28|\n",
      "|5555991584|  [5, 5]|    5.0|Enya is one of of...|12 21, 2002|A3EJYJC25OJVKK|Distant Voyageur ...|The album for a r...|    1040428800|2002-12-21| 2002-12-20|2002-12-22|\n",
      "|5555991584|  [4, 4]|    5.0|This is not anoth...| 01 4, 2007|A1DA8VOH9NR6C7|       E. Minkovitch|   Simply wonderful.|    1167868800|2007-01-04| 2007-01-03|2007-01-05|\n",
      "|5555991584|[12, 12]|    5.0|Many times, AND W...|05 12, 2003|A33TRNCQK4IUO7|          guillermoj|A true gem, even ...|    1052697600|2003-05-12| 2003-05-11|2003-05-13|\n",
      "|5555991584|  [2, 3]|    5.0|I just recently p...| 01 2, 2001| AWY3EPKEOUV1W|             Heather|New Enya Fan.  Si...|     978393600|2001-01-02| 2001-01-01|2001-01-03|\n",
      "|5555991584|  [1, 1]|    4.0|Over the past twe...|02 10, 2013|A1SCJWCMQ3W3KK|            Irishgal|Definitely One of...|    1360454400|2013-02-10| 2013-02-09|2013-02-11|\n",
      "|5555991584|  [1, 1]|    5.0|[One CD, with a r...|07 30, 2013|A14BTJRH9VNLJJ|     Kurt A. Johnson|          Wonderful!|    1375142400|2013-07-30| 2013-07-29|2013-07-31|\n",
      "|5555991584|[12, 13]|    5.0|The problem with ...|02 15, 2005|A2AOZQ3WTNVVOK|Lonnie E. Holder ...|           Beautiful|    1108425600|2005-02-15| 2005-02-14|2005-02-16|\n",
      "|5555991584|  [2, 2]|    4.0|If for some reaso...|04 26, 2005|A1BXA3SM3AJOKL|   Michele L. Worley|           11 tracks|    1114473600|2005-04-26| 2005-04-25|2005-04-27|\n",
      "|5555991584|  [3, 4]|    5.0|Released five yea...|05 21, 2000|A3CCYAQRHUTPIQ|      Mr. A. Pomeroy|                 Pop|     958867200|2000-05-21| 2000-05-20|2000-05-22|\n",
      "|5555991584|  [0, 0]|    5.0|(...)She is one o...|07 17, 2001| AHUT55E980RDR|    Neal C. Reynolds|Pure, angelic, sp...|     995328000|2001-07-17| 2001-07-16|2001-07-18|\n",
      "|5555991584|  [2, 3]|    5.0|What an enchantin...| 08 8, 2005|A24N1BAS3CU27H|            Nse Ette|            Angelic!|    1123459200|2005-08-08| 2005-08-07|2005-08-09|\n",
      "|5555991584|  [2, 2]|    4.0|Enya - The Memory...|12 18, 2009|A19YHEBK099R7U|Rich Latta \"meltd...|Some Gorgeous Mus...|    1261094400|2009-12-18| 2009-12-17|2009-12-19|\n",
      "|5555991584|  [8, 9]|    5.0|Enya has one of t...|02 11, 2003|A16KCH578FG4B4|   Russell Diederich|           Beautiful|    1044921600|2003-02-11| 2003-02-10|2003-02-12|\n",
      "+----------+--------+-------+--------------------+-----------+--------------+--------------------+--------------------+--------------+----------+-----------+----------+\n",
      "only showing top 20 rows\n",
      "\n"
     ]
    }
   ],
   "source": [
    "from pyspark.sql.functions import col, to_date\n",
    "reviews = reviews.withColumn(\"reviewDate\", to_date(from_unixtime(\"unixReviewTime\")))\n",
    "reviews = reviews.withColumn(\"windowStart\", date_sub(col(\"reviewDate\"), 1))\n",
    "reviews = reviews.withColumn(\"windowEnd\", date_add(col(\"reviewDate\"), 1))\n",
    "reviews.show()"
   ]
  },
  {
   "cell_type": "code",
   "execution_count": 4,
   "metadata": {},
   "outputs": [],
   "source": [
    "related_reviews = reviews.alias(\"df1\").join(\n",
    "    reviews.alias(\"df2\"),\n",
    "    (col(\"df2.reviewDate\") >= col(\"df1.windowStart\")) &\n",
    "    (col(\"df2.reviewDate\") <= col(\"df1.windowEnd\")) &\n",
    "    (col(\"df1.asin\") != col(\"df2.asin\")),\n",
    "    \"inner\"\n",
    ").select(col(\"df1.asin\"), col(\"df2.asin\").alias(\"related_asin\"))"
   ]
  },
  {
   "cell_type": "code",
   "execution_count": 18,
   "metadata": {},
   "outputs": [
    {
     "name": "stdout",
     "output_type": "stream",
     "text": [
      "+----------+--------------------+\n",
      "|      asin|               other|\n",
      "+----------+--------------------+\n",
      "|5555991584|[B000000509, B000...|\n",
      "|B0000000ZW|[B00000016W, B000...|\n",
      "|B00000016T|[B000000OUU, B000...|\n",
      "|B00000016W|[B00000051K, B000...|\n",
      "|B00000017R|[B00000064F, B000...|\n",
      "|B0000001P4|[B000000Y2R, B000...|\n",
      "|B0000002HZ|[B0000004VW, B000...|\n",
      "|B0000002J9|[5555991584, B000...|\n",
      "|B0000002JR|[5555991584, B000...|\n",
      "|B0000002ME|[B0000004TW, B000...|\n",
      "|B0000002O5|[B00000064F, B000...|\n",
      "|B0000003S0|[B0000024SN, B000...|\n",
      "|B0000004TW|[B000000OMB, B000...|\n",
      "|B0000004UM|[B00000017R, B000...|\n",
      "|B0000004UO|[B000001A6N, B000...|\n",
      "|B0000004UU|[B0000003S0, B000...|\n",
      "|B0000004VK|[B000000OUU, B000...|\n",
      "|B0000004VN|[B0000004VK, B000...|\n",
      "|B0000004VW|[B0000004VK, B000...|\n",
      "|B0000004X1|[B00000017R, B000...|\n",
      "+----------+--------------------+\n",
      "only showing top 20 rows\n",
      "\n"
     ]
    }
   ],
   "source": [
    "output_df = related_reviews.groupBy(\"asin\").agg(\n",
    "    collect_list(\"related_asin\").alias(\"other\")\n",
    ").orderBy(\"asin\")\n",
    "output_df.show()"
   ]
  },
  {
   "cell_type": "code",
   "execution_count": 20,
   "metadata": {},
   "outputs": [
    {
     "name": "stdout",
     "output_type": "stream",
     "text": [
      "+----------+------------------------------------------------------------------------------------------------------------------------+\n",
      "|asin      |other                                                                                                                   |\n",
      "+----------+------------------------------------------------------------------------------------------------------------------------+\n",
      "|B0000004UU|[B0000003S0, B0000004UO, B000001FUF, B0000009UT, B000001EG6, B000001FFJ, B0000025CY, B0000025OA, B000000I2R, B000000OUJ]|\n",
      "|B00000053G|[B00000064G, B000000I0G, B000001F4X, B0000024I7, B0000024ZF, B00000055E, B00000055E, B000000WHB, B000000WJA, B000001EDN]|\n",
      "|B000000541|[B00000054A, B00000054A, B000000Y5M, B000001A9C, B000001F5Y, B00000053X, B00000053X, B000000I0H, B000000OYK, B000001EUP]|\n",
      "|B0000009QT|[B000001FQI, B000001Y15, B0000024MU, B0000025FJ, B000000W6X, B0000011XM, B0000013GT, B0000025DR, B0000025FJ, B000000YIQ]|\n",
      "|B0000009UX|[B00000017R, B000001F38, B00000055E, B00000163G, B000001D7E, B000001Y15, B00000253J, B00000253N, B000001DWX, B000001DYS]|\n",
      "|B0000009V1|[B000000ZGT, B0000011XM, B000001A5X, B000001EGA, B0000025BY, B0000025F7, B000000ISE, B000000OUJ, B000001DUP, B000001FT2]|\n",
      "|B000000EDW|[B000000OOE, B000000ORH, B000000OYK, B00000163G, B000001EW7, B000001FVL, B000001Y15, B000001Y15, B0000025BE, B000000Y2R]|\n",
      "|B000000HRP|[B00000163G, B000001FAO, B0000024S9, B0000025AD, B00000016W, B00000051K, B00000064F, B000000VC2, B000001FAO, B000001IPS]|\n",
      "|B000000I0D|[B000000EDW, B00000016W, B000001AK5, B000001G07, B000000I0G, B000000OMB, B000001EUP, B000001I0O, B0000025F7, B00000051K]|\n",
      "|B000000I0H|[B00000163G, B0000024JN, B000000541, B000000OME, B000000OYK, B000001DZ6, B000001FCM, B000001FZ6, B00000253N, B000001FWQ]|\n",
      "|B000000OOE|[B000000P0G, B000000OUU, B000000W54, B00000163G, B0000024JZ, B0000025CO, B0000025F7, B000000EE2, B000000IRN, B000000OU9]|\n",
      "|B000000OSL|[B00000050T, B000000WGP, B000001Y15, B0000004ZO, B00000064G, B00000163G, B000001ADD, B000001EC1, B000001EP1, B00000253N]|\n",
      "|B000000OUJ|[B0000004XH, B00000050N, B00000064E, B0000019HU, B000001DVP, B000001FJW, B000001Y5F, B0000024IE, B000000YDT, B000000ZHQ]|\n",
      "|B000000OXD|[B00000064G, B000000OUJ, B00000163G, B000001DQG, B000001EGA, B000001F8P, B000001Y15, B0000024IE, B0000024JZ, B0000024ZC]|\n",
      "|B000000W2Z|[B00000016W, B000000OQS, B000000WGF, B000000ZGO, B000001AFY, B000001EE8, B000000OUJ, B000000WZ4, B000001FCK, B0000024MU]|\n",
      "|B000000YIQ|[B0000004X1, B0000004UM, B000000W2Z, B0000013GB, B0000019GE, B000001PGZ, B0000024IE, B0000024JN, B0000024KQ, B000001DQG]|\n",
      "|B0000011P7|[B000000HRP, B0000011XM, B000001A5X, B000001EDN, B000001EXB, B000001FAO, B0000025IA, B000000WBB, B000000YFK, B000001A5X]|\n",
      "|B000001A9C|[B000000OOE, B000001ANM, B000001EC1, B000001EGI, B000001FAO, B000001FIH, B000001FUB, B0000025FJ, B000000D7C, B000000Y2R]|\n",
      "|B000001AEE|[B000001A6N, B0000025BA, B00000052Y, B000000Y5M, B000001G0U, B000001Y15, B000000W2Z, B000001FWQ, B000001Y13, B0000024I7]|\n",
      "|B000001AHX|[B000000NN1, B000001AFF, B000001FND, B000001FNE, B000000IS5, B000000WGN, B00000163G, B000001AFF, B000001DXH, B000001EDN]|\n",
      "+----------+------------------------------------------------------------------------------------------------------------------------+\n",
      "only showing top 20 rows\n",
      "\n"
     ]
    }
   ],
   "source": [
    "from pyspark.sql.functions import collect_list, slice\n",
    "\n",
    "result = related_reviews.groupBy(\"df1.asin\").agg(\n",
    "    collect_list(\"related_asin\").alias(\"other\")\n",
    ").withColumn(\"other\", slice(col(\"other\"), 1, 10))\n",
    "\n",
    "result.show(truncate=False)"
   ]
  },
  {
   "cell_type": "code",
   "execution_count": 5,
   "metadata": {},
   "outputs": [
    {
     "name": "stdout",
     "output_type": "stream",
     "text": [
      "+----------+--------------------+\n",
      "|      asin|               other|\n",
      "+----------+--------------------+\n",
      "|B0000004UU|[{B000001EG6, 1},...|\n",
      "|B0000004X1|[{B0000024UX, 1},...|\n",
      "|B00000053G|[{B000001A5X, 1},...|\n",
      "|B000000541|[{B000001EUP, 1},...|\n",
      "|B0000009QT|[{B0000024MU, 2},...|\n",
      "|B0000009UX|[{B000001FKJ, 1},...|\n",
      "|B0000009V1|[{B000001ZCS, 1},...|\n",
      "|B000000EDW|[{B000001G07, 1},...|\n",
      "|B000000HRP|[{B000000VC2, 1},...|\n",
      "|B000000I0D|[{B000001F38, 1},...|\n",
      "|B000000I0H|[{B0000025DR, 1},...|\n",
      "|B000000OOE|[{B000001G0E, 1},...|\n",
      "|B000000OSL|[{B00000253N, 1},...|\n",
      "|B000000OUJ|[{B000000WJA, 1},...|\n",
      "|B000000OWM|[{B000001E58, 1},...|\n",
      "|B000000OXD|[{B000002KZQ, 1},...|\n",
      "|B000000W2Z|[{B0000013GT, 1},...|\n",
      "|B000000YIQ|[{B0000004UM, 2},...|\n",
      "|B0000011P7|[{B000001EGA, 1},...|\n",
      "|B000001A9C|[{B000000OUU, 1},...|\n",
      "+----------+--------------------+\n",
      "only showing top 20 rows\n",
      "\n"
     ]
    }
   ],
   "source": [
    "from pyspark.sql.functions import col, from_unixtime, to_date, date_add, date_sub, collect_list, struct, slice, expr\n",
    "\n",
    "related_reviews_counted = related_reviews.groupBy(\"df1.asin\", \"related_asin\").count()\n",
    "\n",
    "# Aggregate the results and limit to 10 items per asin\n",
    "result = related_reviews_counted.groupBy(\"asin\").agg(\n",
    "    slice(\n",
    "        expr(\"collect_list(struct(related_asin, count))\"),\n",
    "        1, 10\n",
    "    ).alias(\"other\")\n",
    ")\n",
    "result.show()"
   ]
  },
  {
   "cell_type": "code",
   "execution_count": 6,
   "metadata": {},
   "outputs": [],
   "source": [
    "js = result.toJSON()"
   ]
  },
  {
   "cell_type": "code",
   "execution_count": 10,
   "metadata": {},
   "outputs": [],
   "source": [
    "result_list = result.collect()\n",
    "result_dict = [row.asDict() for row in result_list]\n",
    "\n",
    "# Write the result to a JSON file\n",
    "import json\n",
    "with open(\"result.json\", \"w\") as f:\n",
    "    json.dump(result_dict, f, indent=2)"
   ]
  }
 ],
 "metadata": {
  "kernelspec": {
   "display_name": "Python 3",
   "language": "python",
   "name": "python3"
  },
  "language_info": {
   "codemirror_mode": {
    "name": "ipython",
    "version": 3
   },
   "file_extension": ".py",
   "mimetype": "text/x-python",
   "name": "python",
   "nbconvert_exporter": "python",
   "pygments_lexer": "ipython3",
   "version": "3.9.6"
  }
 },
 "nbformat": 4,
 "nbformat_minor": 2
}
